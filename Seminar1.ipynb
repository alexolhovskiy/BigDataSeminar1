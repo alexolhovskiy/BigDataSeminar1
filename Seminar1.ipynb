{
 "cells": [
  {
   "cell_type": "markdown",
   "id": "fd144b55-dba7-45d6-ac6b-9426d1401564",
   "metadata": {},
   "source": [
    "Берем с помощью курса по сбору данных, селениума и старых галош комменты с сайта с фильмами к последниму сезону \"Игры престолов\" - чтоб было больше эмоций - собираем все в датасет."
   ]
  },
  {
   "cell_type": "code",
   "execution_count": 1,
   "id": "c6b3f718-adb8-4273-b864-686ab771cb14",
   "metadata": {},
   "outputs": [
    {
     "data": {
      "text/html": [
       "<div>\n",
       "<style scoped>\n",
       "    .dataframe tbody tr th:only-of-type {\n",
       "        vertical-align: middle;\n",
       "    }\n",
       "\n",
       "    .dataframe tbody tr th {\n",
       "        vertical-align: top;\n",
       "    }\n",
       "\n",
       "    .dataframe thead th {\n",
       "        text-align: right;\n",
       "    }\n",
       "</style>\n",
       "<table border=\"1\" class=\"dataframe\">\n",
       "  <thead>\n",
       "    <tr style=\"text-align: right;\">\n",
       "      <th></th>\n",
       "      <th>index</th>\n",
       "      <th>content</th>\n",
       "    </tr>\n",
       "  </thead>\n",
       "  <tbody>\n",
       "    <tr>\n",
       "      <th>0</th>\n",
       "      <td>0</td>\n",
       "      <td>NaN</td>\n",
       "    </tr>\n",
       "    <tr>\n",
       "      <th>1</th>\n",
       "      <td>1</td>\n",
       "      <td>NaN</td>\n",
       "    </tr>\n",
       "    <tr>\n",
       "      <th>2</th>\n",
       "      <td>2</td>\n",
       "      <td>Ещё не смотрел, всё ждал когда все серии выйду...</td>\n",
       "    </tr>\n",
       "    <tr>\n",
       "      <th>3</th>\n",
       "      <td>3</td>\n",
       "      <td>Да во времена старой республики. Где то читал,...</td>\n",
       "    </tr>\n",
       "    <tr>\n",
       "      <th>4</th>\n",
       "      <td>4</td>\n",
       "      <td>Он мог его зубами разорвать))</td>\n",
       "    </tr>\n",
       "  </tbody>\n",
       "</table>\n",
       "</div>"
      ],
      "text/plain": [
       "   index                                            content\n",
       "0      0                                                NaN\n",
       "1      1                                                NaN\n",
       "2      2  Ещё не смотрел, всё ждал когда все серии выйду...\n",
       "3      3  Да во времена старой республики. Где то читал,...\n",
       "4      4                      Он мог его зубами разорвать))"
      ]
     },
     "execution_count": 1,
     "metadata": {},
     "output_type": "execute_result"
    }
   ],
   "source": [
    "import pandas as pd\n",
    "\n",
    "df=pd.read_csv('coments2.csv')\n",
    "df.head()"
   ]
  },
  {
   "cell_type": "code",
   "execution_count": 2,
   "id": "a4396977-474c-4d9b-ac0a-6deaabf450df",
   "metadata": {},
   "outputs": [
    {
     "name": "stdout",
     "output_type": "stream",
     "text": [
      "<class 'pandas.core.frame.DataFrame'>\n",
      "RangeIndex: 3407 entries, 0 to 3406\n",
      "Data columns (total 2 columns):\n",
      " #   Column   Non-Null Count  Dtype \n",
      "---  ------   --------------  ----- \n",
      " 0   index    3407 non-null   int64 \n",
      " 1   content  3218 non-null   object\n",
      "dtypes: int64(1), object(1)\n",
      "memory usage: 53.4+ KB\n"
     ]
    }
   ],
   "source": [
    "df.info()"
   ]
  },
  {
   "cell_type": "markdown",
   "id": "c93d9f7d-d60a-4b43-8f05-ca3f83e8ba0b",
   "metadata": {},
   "source": [
    "Подготавливаем данные к обработке"
   ]
  },
  {
   "cell_type": "code",
   "execution_count": 3,
   "id": "6a59123d-5418-4104-a641-ffc87622e809",
   "metadata": {},
   "outputs": [],
   "source": [
    "df['content']=df['content'].fillna('не знаю')"
   ]
  },
  {
   "cell_type": "code",
   "execution_count": 4,
   "id": "7c90bcd2-a021-48ac-b415-30ffaab598bc",
   "metadata": {},
   "outputs": [],
   "source": [
    "\n",
    "df=df.drop('index',axis=1)"
   ]
  },
  {
   "cell_type": "code",
   "execution_count": 5,
   "id": "5a1aea5c-7227-4870-ba1f-3b100289dddf",
   "metadata": {},
   "outputs": [
    {
     "data": {
      "text/html": [
       "<div>\n",
       "<style scoped>\n",
       "    .dataframe tbody tr th:only-of-type {\n",
       "        vertical-align: middle;\n",
       "    }\n",
       "\n",
       "    .dataframe tbody tr th {\n",
       "        vertical-align: top;\n",
       "    }\n",
       "\n",
       "    .dataframe thead th {\n",
       "        text-align: right;\n",
       "    }\n",
       "</style>\n",
       "<table border=\"1\" class=\"dataframe\">\n",
       "  <thead>\n",
       "    <tr style=\"text-align: right;\">\n",
       "      <th></th>\n",
       "      <th>content</th>\n",
       "    </tr>\n",
       "  </thead>\n",
       "  <tbody>\n",
       "    <tr>\n",
       "      <th>0</th>\n",
       "      <td>не знаю</td>\n",
       "    </tr>\n",
       "    <tr>\n",
       "      <th>1</th>\n",
       "      <td>не знаю</td>\n",
       "    </tr>\n",
       "    <tr>\n",
       "      <th>2</th>\n",
       "      <td>Ещё не смотрел, всё ждал когда все серии выйду...</td>\n",
       "    </tr>\n",
       "    <tr>\n",
       "      <th>3</th>\n",
       "      <td>Да во времена старой республики. Где то читал,...</td>\n",
       "    </tr>\n",
       "    <tr>\n",
       "      <th>4</th>\n",
       "      <td>Он мог его зубами разорвать))</td>\n",
       "    </tr>\n",
       "  </tbody>\n",
       "</table>\n",
       "</div>"
      ],
      "text/plain": [
       "                                             content\n",
       "0                                            не знаю\n",
       "1                                            не знаю\n",
       "2  Ещё не смотрел, всё ждал когда все серии выйду...\n",
       "3  Да во времена старой республики. Где то читал,...\n",
       "4                      Он мог его зубами разорвать))"
      ]
     },
     "execution_count": 5,
     "metadata": {},
     "output_type": "execute_result"
    }
   ],
   "source": [
    "df.head()\n"
   ]
  },
  {
   "cell_type": "markdown",
   "id": "86e03978-cfcc-4ae6-b488-af4488975a71",
   "metadata": {},
   "source": [
    "Применяем курс по преносу обучения - берем с https://huggingface.co/ нейросеть seara/rubert-tiny2-russian-sentiment - для оценки комментов: neutral: нейтральный positive: позитивный negative: негативный.\n"
   ]
  },
  {
   "cell_type": "code",
   "execution_count": 6,
   "id": "0ddf9935-f2d4-44b9-b8f6-bcf015dbcbe7",
   "metadata": {},
   "outputs": [],
   "source": [
    "from transformers import pipeline\n",
    "from transformers import BertTokenizer\n",
    "model = pipeline(model=\"seara/rubert-tiny2-russian-sentiment\")"
   ]
  },
  {
   "cell_type": "markdown",
   "id": "4451ba04-4e50-489e-946f-22de7258ff52",
   "metadata": {},
   "source": [
    "Собираем ф-ию приведения строки к числу для ускорения обработки. Ставим задачу оценить весь датасет комментов - положительный отрицательный или нейтральный"
   ]
  },
  {
   "cell_type": "code",
   "execution_count": 7,
   "id": "1f6b0e86-0020-453e-9c45-ea607b6f8626",
   "metadata": {},
   "outputs": [],
   "source": [
    "def estimateFunc(comment):\n",
    "    mark={'positive':1,'negative':-1,'neutral':0}\n",
    "    return mark[model(comment)[0]['label']]\n"
   ]
  },
  {
   "cell_type": "markdown",
   "id": "75748d84-e09f-42e7-aa9c-cde1433e968e",
   "metadata": {},
   "source": [
    "Модель отказывалась работать без такой вот обрезки!"
   ]
  },
  {
   "cell_type": "code",
   "execution_count": 9,
   "id": "5204ea50-f07e-44b0-af6a-bd3718bc0f9f",
   "metadata": {},
   "outputs": [],
   "source": [
    "df['content'] = df['content'].str.slice(0, 2048)"
   ]
  },
  {
   "cell_type": "markdown",
   "id": "346b9210-72a1-4ede-9dfa-e9ec7901e518",
   "metadata": {},
   "source": [
    "Ф-ия рудуктора - просто складывает результаты выполнения map"
   ]
  },
  {
   "cell_type": "code",
   "execution_count": 10,
   "id": "c0b1c694-997f-45a9-9b31-f3c5a62ad8b7",
   "metadata": {},
   "outputs": [],
   "source": [
    "from functools import reduce\n",
    "def reduceButch(a,b):\n",
    "    return a+b"
   ]
  },
  {
   "cell_type": "markdown",
   "id": "996dd59c-6de2-41ca-96fb-7020875a9d84",
   "metadata": {},
   "source": [
    "Общая ф-ия"
   ]
  },
  {
   "cell_type": "code",
   "execution_count": 11,
   "id": "67d242ea-49e3-4955-ae51-6b47f54e5b00",
   "metadata": {},
   "outputs": [],
   "source": [
    "def butchState(butch):\n",
    "    return reduce(reduceButch,map(estimateFunc,butch))"
   ]
  },
  {
   "cell_type": "markdown",
   "id": "948c3662-09f6-481e-80d7-08db7ebfabc8",
   "metadata": {},
   "source": [
    "Посмотрим сколько у нас чего!"
   ]
  },
  {
   "cell_type": "code",
   "execution_count": 14,
   "id": "a3042017-a4e8-44e7-8dc2-4b0c0fb48640",
   "metadata": {},
   "outputs": [
    {
     "data": {
      "text/plain": [
       "value\n",
       " 0    2014\n",
       "-1     991\n",
       " 1     402\n",
       "Name: count, dtype: int64"
      ]
     },
     "execution_count": 14,
     "metadata": {},
     "output_type": "execute_result"
    }
   ],
   "source": [
    "df['value']=df['content'].apply(estimateFunc)\n",
    "df['value'].value_counts()"
   ]
  },
  {
   "cell_type": "markdown",
   "id": "456f9ed0-0da3-4adf-aaaf-a5d1b30af970",
   "metadata": {},
   "source": [
    "Много 0, но \"-\" больше чем \"+\"!"
   ]
  },
  {
   "cell_type": "markdown",
   "id": "1b585a04-5d3b-4317-9588-164b06cb8509",
   "metadata": {},
   "source": [
    "И контрольный на время"
   ]
  },
  {
   "cell_type": "code",
   "execution_count": 15,
   "id": "b8c88096-12a2-4385-ba9c-386396f4212a",
   "metadata": {},
   "outputs": [
    {
     "name": "stdout",
     "output_type": "stream",
     "text": [
      "CPU times: total: 35.3 s\n",
      "Wall time: 51.8 s\n"
     ]
    },
    {
     "data": {
      "text/plain": [
       "-589"
      ]
     },
     "execution_count": 15,
     "metadata": {},
     "output_type": "execute_result"
    }
   ],
   "source": [
    "%%time\n",
    "butchState(df['content'])"
   ]
  },
  {
   "cell_type": "markdown",
   "id": "b7970431-20a8-45f1-b10f-918de152fbf3",
   "metadata": {},
   "source": [
    "Обработка всего цельного датасета заняла вот столько времени"
   ]
  },
  {
   "cell_type": "markdown",
   "id": "029ce627-35e7-47cd-a30b-b65d835ff53a",
   "metadata": {},
   "source": [
    "Обработаем датасет кусками"
   ]
  },
  {
   "cell_type": "code",
   "execution_count": 16,
   "id": "74e293ad-1073-425c-ad5a-6e215ad8ebca",
   "metadata": {},
   "outputs": [
    {
     "name": "stdout",
     "output_type": "stream",
     "text": [
      "[25]\n",
      "[25, -16]\n",
      "[25, -16, -36]\n",
      "[25, -16, -36, -32]\n",
      "[25, -16, -36, -32, -55]\n",
      "[25, -16, -36, -32, -55, -47]\n",
      "[25, -16, -36, -32, -55, -47, -48]\n",
      "[25, -16, -36, -32, -55, -47, -48, -26]\n",
      "[25, -16, -36, -32, -55, -47, -48, -26, -44]\n",
      "[25, -16, -36, -32, -55, -47, -48, -26, -44, -36]\n",
      "[25, -16, -36, -32, -55, -47, -48, -26, -44, -36, -45]\n",
      "[25, -16, -36, -32, -55, -47, -48, -26, -44, -36, -45, -41]\n",
      "[25, -16, -36, -32, -55, -47, -48, -26, -44, -36, -45, -41, -32]\n",
      "[25, -16, -36, -32, -55, -47, -48, -26, -44, -36, -45, -41, -32, -33]\n",
      "[25, -16, -36, -32, -55, -47, -48, -26, -44, -36, -45, -41, -32, -33, -43]\n",
      "[25, -16, -36, -32, -55, -47, -48, -26, -44, -36, -45, -41, -32, -33, -43, -44]\n",
      "[25, -16, -36, -32, -55, -47, -48, -26, -44, -36, -45, -41, -32, -33, -43, -44, -38]\n",
      "[25, -16, -36, -32, -55, -47, -48, -26, -44, -36, -45, -41, -32, -33, -43, -44, -38, 2]\n",
      "[25, -16, -36, -32, -55, -47, -48, -26, -44, -36, -45, -41, -32, -33, -43, -44, -38, 2]\n",
      "-589\n",
      "CPU times: total: 34.4 s\n",
      "Wall time: 53.4 s\n"
     ]
    }
   ],
   "source": [
    "%%time\n",
    "chunksize = 200\n",
    "temp=[]\n",
    "for chunk in pd.read_csv('coments2.csv', chunksize=200):\n",
    "    chunk['content']=chunk['content'].fillna('не знаю')\n",
    "    chunk['content'] = chunk['content'].str.slice(0, 2048)\n",
    "    # print(chunk)\n",
    "    temp.append(butchState(chunk['content']))\n",
    "    print(temp)\n",
    "\n",
    "print(temp)\n",
    "print(reduce(reduceButch,temp))"
   ]
  },
  {
   "cell_type": "markdown",
   "id": "b9c56649-b937-46d4-a985-ed89040a82f8",
   "metadata": {},
   "source": [
    "А теперь распараллелим "
   ]
  },
  {
   "cell_type": "code",
   "execution_count": 24,
   "id": "fbecc767-84f3-422f-9eac-7646ba48cc2a",
   "metadata": {},
   "outputs": [
    {
     "name": "stdout",
     "output_type": "stream",
     "text": [
      "[25, -16, -36, -32, -55, -47, -48, -26, -44, -36, -45, -41, -32, -33, -43, -44, -38, 2]\n",
      "-589\n",
      "CPU times: total: 1.77 s\n",
      "Wall time: 22.4 s\n"
     ]
    }
   ],
   "source": [
    "%%time\n",
    "from joblib import Parallel, delayed\n",
    "chunks = pd.read_csv('coments2.csv', chunksize=chunksize)\n",
    "temp = Parallel(n_jobs=4)(delayed(butchState)(chunk['content'].fillna('не знаю').str.slice(0, 2048)) for chunk in chunks)\n",
    "print(temp)\n",
    "result = reduce(reduceButch, temp)\n",
    "print(result)"
   ]
  },
  {
   "cell_type": "markdown",
   "id": "654ecf5a-2c29-40a2-a7da-8c6705ef5faf",
   "metadata": {},
   "source": [
    "Наблюдаем улучшение - время обработки сократилось! на 4 лучше чем на 16!"
   ]
  },
  {
   "cell_type": "markdown",
   "id": "45336e49-bc4e-4064-9bc3-07a6329861bc",
   "metadata": {},
   "source": [
    "Испытаем еще один механизм распараллеливания"
   ]
  },
  {
   "cell_type": "code",
   "execution_count": 20,
   "id": "c410a4ee-1eb7-4111-937b-3556688bbf6b",
   "metadata": {},
   "outputs": [
    {
     "name": "stdout",
     "output_type": "stream",
     "text": [
      "All Done\n",
      "[2, -43, -32, -16, 25, -47, -33, -32, -55, -36, -44, -38, -48, -26, -36, -45, -44, -41]\n",
      "-589\n",
      "CPU times: total: 6.25 s\n",
      "Wall time: 21.7 s\n"
     ]
    }
   ],
   "source": [
    "%%time\n",
    "\n",
    "import threading\n",
    "import queue\n",
    "\n",
    "temp=[]\n",
    "threads=[]\n",
    "def butchState2(butch,result_queue):\n",
    "    result_queue.put(reduce(reduceButch,map(estimateFunc,butch)))  # Сохраняем результат в очередь\n",
    "\n",
    "chunksize = 200\n",
    "result_queue = queue.Queue()\n",
    "\n",
    "for chunk in pd.read_csv('coments2.csv', chunksize=chunksize):\n",
    "    chunk['content']=chunk['content'].fillna('не знаю')\n",
    "    chunk['content'] = chunk['content'].str.slice(0, 2048)\n",
    "    threads.append(threading.Thread(target=butchState2,args=(chunk['content'],result_queue)))\n",
    "\n",
    "for thread in threads:\n",
    "    thread.start()\n",
    "\n",
    "for thread in threads:\n",
    "    thread.join()\n",
    "\n",
    "temp = []\n",
    "while not result_queue.empty():\n",
    "    temp.append(result_queue.get())\n",
    "\n",
    "print('All Done')\n",
    "print(temp)\n",
    "print(reduce(reduceButch,temp))\n",
    "    "
   ]
  },
  {
   "cell_type": "markdown",
   "id": "aa739941-d574-4100-814b-a10b53d26e50",
   "metadata": {},
   "source": [
    "Не хуже предыдущего! Тут как бы все куски обрабатываются в отдельном потоке! Даже порядок результатов разный - что говорит о том что каждый поток завершается когда ему вздумается! И тут не с чем играться - нет возможности задать количество одновременно работающих потоков - все задается очередью автоматически."
   ]
  },
  {
   "cell_type": "markdown",
   "id": "41674747-6a0e-42f2-94c8-c9c032107874",
   "metadata": {},
   "source": [
    "Последний рабочий вариант по совету друзей! "
   ]
  },
  {
   "cell_type": "code",
   "execution_count": 22,
   "id": "d63f3f66-16b0-41d9-87d5-483a737bb880",
   "metadata": {},
   "outputs": [
    {
     "name": "stdout",
     "output_type": "stream",
     "text": [
      "All Done\n",
      "[-32, -36, 25, -16, -55, -47, -26, -48, -36, -44, -45, -41, -32, -33, 2, -43, -44, -38]\n",
      "-589\n",
      "CPU times: total: 5.73 s\n",
      "Wall time: 24.6 s\n"
     ]
    }
   ],
   "source": [
    "%%time\n",
    "from concurrent.futures import ThreadPoolExecutor, as_completed\n",
    "\n",
    "chunksize = 200\n",
    "temp = []\n",
    "\n",
    "with ThreadPoolExecutor(max_workers=4) as executor:  # Ограничиваем количество потоков\n",
    "    futures = []\n",
    "    for chunk in pd.read_csv('coments2.csv', chunksize=chunksize):\n",
    "        chunk['content'] = chunk['content'].fillna('не знаю')\n",
    "        chunk['content'] = chunk['content'].str.slice(0, 2048)\n",
    "        futures.append(executor.submit(butchState, chunk['content']))\n",
    "\n",
    "    for future in as_completed(futures):\n",
    "        temp.append(future.result())  # Сбор результатов\n",
    "\n",
    "final_result = reduce(reduceButch, temp)\n",
    "print('All Done')\n",
    "print(temp)\n",
    "print(final_result)\n"
   ]
  },
  {
   "cell_type": "markdown",
   "id": "b8977570-62b3-428c-a78a-512c8ef044e9",
   "metadata": {},
   "source": [
    "Результат средний! Можно играться с количеством воркеров. Интересно, что Wall time на 16 и на 4 одинаковый, а время цпу на 4 - меньше!"
   ]
  },
  {
   "cell_type": "markdown",
   "id": "0c266df2-b6a4-4fd9-b50e-8928d9daceda",
   "metadata": {},
   "source": [
    "Тут процесс не пошел!"
   ]
  },
  {
   "cell_type": "code",
   "execution_count": null,
   "id": "9f229b38-c606-4098-ba87-989e88fae324",
   "metadata": {},
   "outputs": [],
   "source": [
    "# from multiprocessing import Pool\n",
    "\n",
    "\n",
    "# # Главная функция для параллельной обработки файла\n",
    "# def process_large_file_in_parallel(file_path, chunksize=10, num_workers=4):\n",
    "#     pool = Pool(num_workers)  # Создаем пул процессов\n",
    "\n",
    "#     # Читаем файл по частям и передаем части в пул для параллельной обработки\n",
    "#     results = []\n",
    "#     for chunk in pd.read_csv(file_path, chunksize=chunksize):\n",
    "#         chunk['content'] = chunk['content'].fillna('не знаю')\n",
    "#         chunk['content'] = chunk['content'].str.slice(0, 2048)\n",
    "#         result = pool.apply_async(butchState, args=(chunk['content'],))\n",
    "#         results.append(result)\n",
    "\n",
    "#     pool.close()  # Закрываем пул, больше не принимаем задачи\n",
    "#     pool.join()  # Ждем завершения всех процессов\n",
    "\n",
    "#     # Собираем результаты\n",
    "#     print(reduce(reduceButch,results))\n",
    "\n",
    "# # Пример использования\n",
    "# file_path = 'coments2.csv'\n",
    "# process_large_file_in_parallel(file_path)\n"
   ]
  }
 ],
 "metadata": {
  "kernelspec": {
   "display_name": "Python 3 (ipykernel)",
   "language": "python",
   "name": "python3"
  },
  "language_info": {
   "codemirror_mode": {
    "name": "ipython",
    "version": 3
   },
   "file_extension": ".py",
   "mimetype": "text/x-python",
   "name": "python",
   "nbconvert_exporter": "python",
   "pygments_lexer": "ipython3",
   "version": "3.11.4"
  }
 },
 "nbformat": 4,
 "nbformat_minor": 5
}
